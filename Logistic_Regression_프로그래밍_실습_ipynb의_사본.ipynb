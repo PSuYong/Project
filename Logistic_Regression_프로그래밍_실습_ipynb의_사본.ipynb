{
  "cells": [
    {
      "cell_type": "markdown",
      "metadata": {
        "id": "view-in-github",
        "colab_type": "text"
      },
      "source": [
        "<a href=\"https://colab.research.google.com/github/PSuYong/Project/blob/main/Logistic_Regression_%ED%94%84%EB%A1%9C%EA%B7%B8%EB%9E%98%EB%B0%8D_%EC%8B%A4%EC%8A%B5_ipynb%EC%9D%98_%EC%82%AC%EB%B3%B8.ipynb\" target=\"_parent\"><img src=\"https://colab.research.google.com/assets/colab-badge.svg\" alt=\"Open In Colab\"/></a>"
      ]
    },
    {
      "cell_type": "markdown",
      "source": [
        "# 1.Logisitic Regression 모델 구현"
      ],
      "metadata": {
        "id": "byXOGaIezQc0"
      }
    },
    {
      "cell_type": "markdown",
      "metadata": {
        "id": "1UvCkxIyw47u"
      },
      "source": [
        "# Logistic Regression\n",
        "\n",
        "You will build a logistic regression classifier to recognize  cats. This assignment will step you through how to do this with a Neural Network mindset, and so will also hone your intuitions about deep learning.\n",
        "\n",
        "**Instructions:**\n",
        "- Do not use loops (for/while) in your code, unless the instructions explicitly ask you to do so.\n",
        "\n",
        "**You will learn to:**\n",
        "- Build the general architecture of a learning algorithm, including:\n",
        "    - Initializing parameters\n",
        "    - Calculating the cost function and its gradient\n",
        "    - Using an optimization algorithm (gradient descent) \n",
        "- Gather all three functions above into a main model function, in the right order."
      ]
    },
    {
      "cell_type": "markdown",
      "metadata": {
        "id": "aG19bs2Pw47x"
      },
      "source": [
        "## 1 - Packages ##\n",
        "\n",
        "First, let's run the cell below to import all the packages that you will need during this assignment. \n",
        "- [numpy](www.numpy.org) is the fundamental package for scientific computing with Python.\n",
        "- [h5py](http://www.h5py.org) is a common package to interact with a dataset that is stored on an H5 file.\n",
        "- [matplotlib](http://matplotlib.org) is a famous library to plot graphs in Python.\n",
        "- [PIL](http://www.pythonware.com/products/pil/) and [scipy](https://www.scipy.org/) are used here to test your model with your own picture at the end."
      ]
    },
    {
      "cell_type": "code",
      "execution_count": 1,
      "metadata": {
        "collapsed": true,
        "id": "eacDKGZxw47y"
      },
      "outputs": [],
      "source": [
        "import numpy as np\n",
        "import copy\n",
        "import matplotlib.pyplot as plt\n",
        "import h5py\n",
        "import scipy\n",
        "from PIL import Image\n",
        "from scipy import ndimage\n",
        "import inspect\n",
        "from utils import loadDataset\n",
        "\n",
        "%matplotlib inline"
      ]
    },
    {
      "cell_type": "code",
      "source": [
        "def retrieve_name(var):\n",
        "  callers_local_vars = inspect.currentframe().f_back.f_locals.items()\n",
        "  return [var_name for var_name, var_val in callers_local_vars if var_val is var]"
      ],
      "metadata": {
        "id": "7S4sn7kRhp01"
      },
      "execution_count": 2,
      "outputs": []
    },
    {
      "cell_type": "code",
      "source": [
        "def array_info(array, array_name=\"Noname\"):\n",
        "  print(\"*\" * 60)\n",
        "  print(\"<<<array_info func:{0}>>>\".format(array_name))\n",
        "  print(\"-\" * 60)\n",
        "  print(\"array=\", array)\n",
        "  print(\"type=\", type(array))\n",
        "  print(\"ndim:\", array.ndim)\n",
        "  print(\"shape:\", array.shape)\n",
        "  print(\"dtype:\", array.dtype)\n",
        "  print(\"size:\", array.size)  #item 개수\n",
        "  print(\"itemsize:\", array.itemsize) #item size\n",
        "  print(\"nbytes:\", array.nbytes)  # size * itemsize\n",
        "  print(\"strides:\", array.strides) # array내의 각 item에서 다음 item간의 바이트 간격?\n",
        "  print(\"*\" * 60)"
      ],
      "metadata": {
        "id": "gJfwxLfThrfN"
      },
      "execution_count": 3,
      "outputs": []
    },
    {
      "cell_type": "markdown",
      "metadata": {
        "id": "ww5g34qyw47z"
      },
      "source": [
        "## 2 - Overview of the Problem set ##\n",
        "\n",
        "**Problem Statement**: You are given a dataset (\"data.h5\") containing:\n",
        "> - a training set of MTrain images labeled as cat (y=1) or non-cat (y=0)\n",
        "> - a test set of MTest images labeled as cat or non-cat\n",
        "> - each image is of shape (numPixel, numPixel, 3) where 3 is for the 3 channels (RGB). Thus, each image is square (height = numPixel) and (width = numPixel).\n",
        "\n",
        "You will build a simple image-recognition algorithm that can correctly classify pictures as cat or non-cat.\n",
        "\n",
        "Let's get more familiar with the dataset. Load the data by running the following code."
      ]
    },
    {
      "cell_type": "code",
      "execution_count": 4,
      "metadata": {
        "id": "fC7UMyC_w47z",
        "outputId": "b2afcadd-2932-4d57-dbc2-349054c9c1da",
        "colab": {
          "base_uri": "https://localhost:8080/"
        }
      },
      "outputs": [
        {
          "output_type": "stream",
          "name": "stdout",
          "text": [
            "************************************************************\n",
            "<<<array_info func:['classes']>>>\n",
            "------------------------------------------------------------\n",
            "array= [b'non-cat' b'cat']\n",
            "type= <class 'numpy.ndarray'>\n",
            "ndim: 1\n",
            "shape: (2,)\n",
            "dtype: |S7\n",
            "size: 2\n",
            "itemsize: 7\n",
            "nbytes: 14\n",
            "strides: (7,)\n",
            "************************************************************\n"
          ]
        }
      ],
      "source": [
        "# Loading the data (cat/non-cat)\n",
        "trainSetXorig, trainSetY, testSetXorig, testSetY, classes = loadDataset()\n",
        "#array_info(trainSetXorig, retrieve_name(trainSetXorig))\n",
        "array_info(classes, retrieve_name(classes))\n",
        "#array_info(trainSetY, retrieve_name(trainSetY))"
      ]
    },
    {
      "cell_type": "markdown",
      "metadata": {
        "id": "1XhJGoYsw470"
      },
      "source": [
        "We added \"_orig\" at the end of image datasets (train and test) because we are going to preprocess them. After preprocessing, we will end up with trainSetX and testSetX (the labels trainSetY and testSetY don't need any preprocessing).\n",
        "\n",
        "Each line of your trainSetXorig and testSetXorig is an array representing an image. You can visualize an example by running the following code. Feel free also to change the `index` value and re-run to see other images. "
      ]
    },
    {
      "cell_type": "code",
      "execution_count": 19,
      "metadata": {
        "id": "rMj9552nw470",
        "outputId": "0ce100cd-b0dc-43dc-e0f6-49ccb365ab40",
        "colab": {
          "base_uri": "https://localhost:8080/",
          "height": 378
        }
      },
      "outputs": [
        {
          "output_type": "stream",
          "name": "stdout",
          "text": [
            "<class 'numpy.ndarray'>\n",
            "<class 'numpy.int64'>\n",
            "[0]\n",
            "0\n",
            "()\n",
            "y = [0], it's a 'non-cat' picture.\n"
          ]
        },
        {
          "output_type": "display_data",
          "data": {
            "text/plain": [
              "<Figure size 432x288 with 1 Axes>"
            ],
            "image/png": "[encoded data removed]"
          },
          "metadata": {
            "needs_background": "light"
          }
        }
      ],
      "source": [
        "# Example of a picture\n",
        "index = 208\n",
        "plt.imshow(trainSetXorig[index])\n",
        "x = trainSetY[:, index]\n",
        "print(type(x))\n",
        "y = trainSetY[0][index]\n",
        "print(type(y))\n",
        "print(x)\n",
        "print(y)\n",
        "z = np.squeeze(trainSetY[:, index])\n",
        "print(z.shape)\n",
        "print (\"y = \" + str(trainSetY[:, index]) + \", it's a '\" + classes[np.squeeze(trainSetY[:, index])].decode(\"utf-8\") +  \"' picture.\")"
      ]
    },
    {
      "cell_type": "markdown",
      "metadata": {
        "id": "P946S73Tw471"
      },
      "source": [
        "### Exercise1\n",
        "Find the values for:\n",
        "> - Mtrain (number of training examples)\n",
        "> - Mtest (number of test examples)\n",
        "> - numPixel (= height = width of a training image)\n",
        "\n",
        "Remember that `trainSetXorig` is a numpy-array of shape (Mtrain, numPixel, numPixel, 3). For instance, you can access `Mtrain` by writing `trainSetXorig.shape[0]`."
      ]
    },
    {
      "cell_type": "code",
      "execution_count": 6,
      "metadata": {
        "scrolled": true,
        "id": "-TLg3TuEw472",
        "outputId": "7fa4e335-3e68-4a01-d862-e6dee9247804",
        "colab": {
          "base_uri": "https://localhost:8080/"
        }
      },
      "outputs": [
        {
          "output_type": "stream",
          "name": "stdout",
          "text": [
            "Number of training examples: m_train = 209\n",
            "Number of testing examples: m_test = 64\n",
            "Height/Width of each image: num_px = 64\n",
            "Each image is of size: (64, 64, 3)\n",
            "trainSetXorig shape: (209, 64, 64, 3)\n",
            "trainSetY shape: (1, 209)\n",
            "testSetXorig shape: (50, 64, 64, 3)\n",
            "testSetY shape: (1, 50)\n"
          ]
        }
      ],
      "source": [
        "### START CODE HERE ### (≈ 3 lines of code)\n",
        "Mtrain = trainSetXorig.shape[0] # image 갯수 \n",
        "Mtest = trainSetXorig.shape[1] # 테스트 횟수 \n",
        "numPixel =  trainSetXorig.shape[2] # 이미지의 픽셀숫자 \n",
        "### END CODE HERE ###\n",
        "\n",
        "print (\"Number of training examples: m_train = \" + str(Mtrain))\n",
        "print (\"Number of testing examples: m_test = \" + str(Mtest))\n",
        "print (\"Height/Width of each image: num_px = \" + str(numPixel))\n",
        "print (\"Each image is of size: (\" + str(numPixel) + \", \" + str(numPixel) + \", 3)\")\n",
        "print (\"trainSetXorig shape: \" + str(trainSetXorig.shape))\n",
        "print (\"trainSetY shape: \" + str(trainSetY.shape))\n",
        "print (\"testSetXorig shape: \" + str(testSetXorig.shape))\n",
        "print (\"testSetY shape: \" + str(testSetY.shape))"
      ]
    },
    {
      "cell_type": "markdown",
      "metadata": {
        "id": "fsrlRTbXw472"
      },
      "source": [
        "**Expected Output for m_train, m_test and num_px**: \n",
        "<table style=\"width:15%\">\n",
        "  <tr>\n",
        "    <td>**Mrain**</td>\n",
        "    <td> 209 </td> \n",
        "  </tr>\n",
        "  \n",
        "  <tr>\n",
        "    <td>**Mtest**</td>\n",
        "    <td> 50 </td> \n",
        "  </tr>\n",
        "  \n",
        "  <tr>\n",
        "    <td>**numPixel**</td>\n",
        "    <td> 64 </td> \n",
        "  </tr>\n",
        "  \n",
        "</table>\n"
      ]
    },
    {
      "cell_type": "markdown",
      "metadata": {
        "id": "v7JzO0b-w473"
      },
      "source": [
        "For convenience, you should now reshape images of shape (numPixel, numPixel, 3) in a numpy-array of shape (numPixel $*$ numPixel $*$ 3, 1). After this, our training (and test) dataset is a numpy-array where each column represents a flattened image. There should be Mtrain (respectively Mtest) columns.\n",
        "\n",
        "### Exercise 2\n",
        "Reshape the training and test data sets so that images of size (numPixel, numPixel, 3) are flattened into single vectors of shape (numPixel $*$ numPixel $*$ 3, 1).\n",
        "\n",
        "A trick when you want to flatten a matrix X of shape (a,b,c,d) to a matrix Xflatten of shape (b$*$c$*$d, a) is to use: \n",
        "```python\n",
        "Xflatten = X.reshape(X.shape[0], -1).T      # X.T is the transpose of X\n",
        "```"
      ]
    },
    {
      "cell_type": "code",
      "execution_count": 7,
      "metadata": {
        "id": "B3ACTTk4w473",
        "colab": {
          "base_uri": "https://localhost:8080/"
        },
        "outputId": "52afe86d-14f3-44f0-9743-1739f9e34efe"
      },
      "outputs": [
        {
          "output_type": "stream",
          "name": "stdout",
          "text": [
            "trainSetXFlatten shape: (12288, 209)\n",
            "trainSetY shape: (1, 209)\n",
            "testSetXFlatten shape: (9600, 64)\n",
            "testSetY shape: (1, 50)\n",
            "sanity check after reshaping: [17 31 56 22 33]\n"
          ]
        }
      ],
      "source": [
        "# Reshape the training and test examples\n",
        "\n",
        "### START CODE HERE ### (≈ 2 lines of code)\n",
        "trainSetXFlatten = trainSetXorig.reshape(trainSetXorig.shape[0], -1).T #RGB 3개 영역으로 해서 하는거 \n",
        "testSetXFlatten = testSetXorig.reshape(testSetXorig.shape[1], -1).T\n",
        "### END CODE HERE ###\n",
        "\n",
        "print (\"trainSetXFlatten shape: \" + str(trainSetXFlatten.shape))\n",
        "print (\"trainSetY shape: \" + str(trainSetY.shape))\n",
        "print (\"testSetXFlatten shape: \" + str(testSetXFlatten.shape))\n",
        "print (\"testSetY shape: \" + str(testSetY.shape))\n",
        "print (\"sanity check after reshaping: \" + str(trainSetXFlatten[0:5,0]))"
      ]
    },
    {
      "cell_type": "markdown",
      "metadata": {
        "id": "eAp79sMew473"
      },
      "source": [
        "**Expected Output**: \n",
        "\n",
        "<table style=\"width:35%\">\n",
        "  <tr>\n",
        "    <td>**trainSetXFlatten shape**</td>\n",
        "    <td> (12288, 209)</td> \n",
        "  </tr>\n",
        "  <tr>\n",
        "    <td>**trainSetY shape**</td>\n",
        "    <td>(1, 209)</td> \n",
        "  </tr>\n",
        "  <tr>\n",
        "    <td>**testSetXFlatten shape**</td>\n",
        "    <td>(12288, 50)</td> \n",
        "  </tr>\n",
        "  <tr>\n",
        "    <td>**testSetY shape**</td>\n",
        "    <td>(1, 50)</td> \n",
        "  </tr>\n",
        "  <tr>\n",
        "  <td>**sanity check after reshaping**</td>\n",
        "  <td>[17 31 56 22 33]</td> \n",
        "  </tr>\n",
        "</table>"
      ]
    },
    {
      "cell_type": "markdown",
      "metadata": {
        "id": "eVEq35SVw474"
      },
      "source": [
        "To represent color images, the red, green and blue channels (RGB) must be specified for each pixel, and so the pixel value is actually a vector of three numbers ranging from 0 to 255.\n",
        "\n",
        "One common preprocessing step in machine learning is to center and standardize your dataset, meaning that you substract the mean of the whole numpy array from each example, and then divide each example by the standard deviation of the whole numpy array. But for picture datasets, it is simpler and more convenient and works almost as well to just divide every row of the dataset by 255 (the maximum value of a pixel channel).\n",
        "\n",
        "<!-- During the training of your model, you're going to multiply weights and add biases to some initial inputs in order to observe neuron activations. Then you backpropogate with the gradients to train the model. But, it is extremely important for each feature to have a similar range such that our gradients don't explode. You will see that more in detail later in the lectures. !--> \n",
        "\n",
        "Let's standardize our dataset."
      ]
    },
    {
      "cell_type": "code",
      "execution_count": 8,
      "metadata": {
        "collapsed": true,
        "id": "YaNzdK_fw474"
      },
      "outputs": [],
      "source": [
        "trainSetX = trainSetXFlatten/255. #RGB값을 255로 나누어서 0에서 1사이로 분류하는 과정 \n",
        "testSetX = testSetXFlatten/255."
      ]
    },
    {
      "cell_type": "markdown",
      "metadata": {
        "id": "RWVbXpglw474"
      },
      "source": [
        "<font color='blue'>\n",
        "**What you need to remember:**\n",
        "\n",
        "Common steps for pre-processing a new dataset are:\n",
        "- Figure out the dimensions and shapes of the problem (Mtrain, Mtest, numPixel, ...)\n",
        "- Reshape the datasets such that each example is now a vector of size (numPixel \\* numPixel \\* 3, 1)\n",
        "- \"Standardize\" the data"
      ]
    },
    {
      "cell_type": "markdown",
      "metadata": {
        "id": "BjIRBa2Tw474"
      },
      "source": [
        "## 3 - Building the parts of our algorithm ## \n",
        "\n",
        "The main steps for building a Neural Network are:\n",
        "1. Define the model structure (such as number of input features) \n",
        "2. Initialize the model's parameters\n",
        "3. Loop:\n",
        "    - Calculate current loss (forward propagation)\n",
        "    - Calculate current gradient (backward propagation)\n",
        "    - Update parameters (gradient descent)\n",
        "\n",
        "You often build 1-3 separately and integrate them into one function we call `model()`.\n",
        "\n"
      ]
    },
    {
      "cell_type": "markdown",
      "source": [
        "### 3.1 - Helper functions\n",
        "\n"
      ],
      "metadata": {
        "id": "V5SQciBk1LzK"
      }
    },
    {
      "cell_type": "markdown",
      "source": [
        "####Exercise 3\n",
        "Using your code from \"Python Basics\", implement `sigmoid()`. As you've seen in the figure above, you need to compute $sigmoid( w^T x + b) = \\frac{1}{1 + e^{-(w^T x + b)}}$ to make predictions. Use np.exp()."
      ],
      "metadata": {
        "id": "TKKQAaBU1d0i"
      }
    },
    {
      "cell_type": "code",
      "execution_count": 9,
      "metadata": {
        "collapsed": true,
        "id": "wKll_e9Vw475"
      },
      "outputs": [],
      "source": [
        "# GRADED FUNCTION: sigmoid\n",
        "\n",
        "def sigmoid(z):\n",
        "    \"\"\"\n",
        "    Compute the sigmoid of z\n",
        "\n",
        "    Arguments:\n",
        "    z -- A scalar or numpy array of any size.\n",
        "\n",
        "    Return:\n",
        "    s -- sigmoid(z)\n",
        "    \"\"\"\n",
        "\n",
        "    ### START CODE HERE ### (≈ 1 line of code)\n",
        "    s = 1 / (1+ np.exp(-z))\n",
        "    ### END CODE HERE ###\n",
        "    \n",
        "    return s"
      ]
    },
    {
      "cell_type": "code",
      "execution_count": 10,
      "metadata": {
        "scrolled": true,
        "id": "rMa_PMZFw475",
        "colab": {
          "base_uri": "https://localhost:8080/"
        },
        "outputId": "443d0983-6bf8-4567-c4ec-9d5e7dffd2e8"
      },
      "outputs": [
        {
          "output_type": "stream",
          "name": "stdout",
          "text": [
            "sigmoid([0, 2]) = [0.5        0.88079708]\n",
            "[0 2]\n"
          ]
        }
      ],
      "source": [
        "print (\"sigmoid([0, 2]) = \" + str(sigmoid(np.array([0,2]))))\n",
        "a = np.array([0,2])\n",
        "print(a.T)"
      ]
    },
    {
      "cell_type": "markdown",
      "metadata": {
        "id": "Qa-wQNe9w475"
      },
      "source": [
        "**Expected Output**: \n",
        "\n",
        "<table>\n",
        "  <tr>\n",
        "    <td>**sigmoid([0, 2])**</td>\n",
        "    <td> [ 0.5         0.88079708]</td> \n",
        "  </tr>\n",
        "</table>"
      ]
    },
    {
      "cell_type": "markdown",
      "metadata": {
        "id": "fUMzQPEyw475"
      },
      "source": [
        "### 3.2 - Initializing parameters\n"
      ]
    },
    {
      "cell_type": "markdown",
      "source": [
        "\n",
        "####Exercise 4\n",
        "Implement parameter initialization in the cell below. You have to initialize w as a vector of zeros. If you don't know what numpy function to use, look up np.zeros() in the Numpy library's documentation."
      ],
      "metadata": {
        "id": "p8OkPzff1kay"
      }
    },
    {
      "cell_type": "code",
      "execution_count": 11,
      "metadata": {
        "collapsed": true,
        "id": "kX-xV07rw476"
      },
      "outputs": [],
      "source": [
        "# GRADED FUNCTION: initializeParameterSetZeros\n",
        "\n",
        "def initializeParameterSetZeros(dim):\n",
        "    \"\"\"\n",
        "    This function creates a vector of zeros of shape (dim, 1) for w and initializes b to 0.\n",
        "    \n",
        "    Argument:\n",
        "    dim -- size of the w vector we want (or number of parameters in this case)\n",
        "    \n",
        "    Returns:\n",
        "    w -- initialized vector of shape (dim, 1)\n",
        "    b -- initialized scalar (corresponds to the bias)\n",
        "    \"\"\"\n",
        "    \n",
        "    ### START CODE HERE ### (≈ 1 line of code)\n",
        "    w = np.zeros((dim,1)) # 2행1렬로 되어진 영함수 생성성\n",
        "    b = 0\n",
        "    ### END CODE HERE ###    \n",
        "    \n",
        "    return w, b"
      ]
    },
    {
      "cell_type": "code",
      "execution_count": 12,
      "metadata": {
        "id": "G0nAs7WWw476",
        "colab": {
          "base_uri": "https://localhost:8080/"
        },
        "outputId": "ea9bf1fd-0b71-4e9d-de24-21170d0c9522"
      },
      "outputs": [
        {
          "output_type": "stream",
          "name": "stdout",
          "text": [
            "w = [[0.]\n",
            " [0.]]\n",
            "b = 0\n"
          ]
        }
      ],
      "source": [
        "dim = 2 # dimension of feature vector\n",
        "w, b = initializeParameterSetZeros(dim)\n",
        "print (\"w = \" + str(w))\n",
        "print (\"b = \" + str(b))"
      ]
    },
    {
      "cell_type": "markdown",
      "metadata": {
        "id": "xYsbfYQIw476"
      },
      "source": [
        "### 3.3 - Forward and Backward propagation\n",
        "\n",
        "Now that your parameters are initialized, you can do the \"forward\" and \"backward\" propagation steps for learning the parameters.\n"
      ]
    },
    {
      "cell_type": "markdown",
      "source": [
        "\n",
        "#### Exercise 5\n",
        "Implement a function `propagate()` that computes the cost function and its gradient.\n",
        "\n",
        "**Hints**:\n",
        "\n",
        "Forward Propagation:\n",
        "- You get X\n",
        "- You compute $A = \\sigma(w^T X + b) = (a^{(1)}, a^{(2)}, ..., a^{(m-1)}, a^{(m)})$\n",
        "- You calculate the cost function: $J = -\\frac{1}{m}\\sum_{i=1}^{m}y^{(i)}\\log(a^{(i)})+(1-y^{(i)})\\log(1-a^{(i)})$\n",
        "\n",
        "Here are the two formulas you will be using: \n",
        "\n",
        "$$ \\frac{\\partial J}{\\partial w} = \\frac{1}{m}X(A-Y)^T\\tag{7}$$\n",
        "$$ \\frac{\\partial J}{\\partial b} = \\frac{1}{m} \\sum_{i=1}^m (a^{(i)}-y^{(i)})\\tag{8}$$"
      ],
      "metadata": {
        "id": "Jtli0Ew6181K"
      }
    },
    {
      "cell_type": "code",
      "execution_count": 63,
      "metadata": {
        "collapsed": true,
        "id": "UIGjqHKuw476"
      },
      "outputs": [],
      "source": [
        "# GRADED FUNCTION: propagate\n",
        "\n",
        "def propagate(w, b, X, Y):\n",
        "    \"\"\"\n",
        "    Implement the cost function and its gradient for the propagation explained above\n",
        "\n",
        "    Arguments:\n",
        "    w -- weights, a numpy array of size (num_px * num_px * 3, 1)  #(n,1)\n",
        "    b -- bias, a scalar # 1 \n",
        "    X -- data of size (num_px * num_px * 3, number of examples) # (n,m)\n",
        "    Y -- true \"label\" vector (containing 0 if non-cat, 1 if cat) of size (1, number of examples) (1,m)\n",
        "\n",
        "    Return:\n",
        "    cost -- negative log-likelihood cost for logistic regression\n",
        "    dw -- gradient of the loss with respect to w, thus same shape as w\n",
        "    db -- gradient of the loss with respect to b, thus same shape as b\n",
        "    \n",
        "    Tips:\n",
        "    - Write your code step by step for the propagation. np.log(), np.dot()\n",
        "    \"\"\"\n",
        "    \n",
        "    m = X.shape[1]\n",
        "    \n",
        "    # FORWARD PROPAGATION (FROM X TO COST)\n",
        "    ### START CODE HERE ### (≈ 2 lines of code)\n",
        "    # compute activation\n",
        "    z = np.dot(w.T,X) + b #(1,n) * (n,m)  -> (1,m)\n",
        "    A = sigmoid(z) # (1,m)\n",
        "    # compute cost by using np.dot to perform multiplication.\n",
        "    # And don't use loops for the sum.\n",
        "\n",
        "    cost = -(1/m)* (np.dot(Y,np.log(A.T)) +  np.dot((1- Y),np.log((1-A).T))) # 브로드캐스팅 Y는 209개 A는 64x64x3개 \n",
        "    # Y.T = (m,1) A.T = (m,1) Y = (1,m) \n",
        "    \n",
        "    ### END CODE HERE ###\n",
        "    \n",
        "    # BACKWARD PROPAGATION (TO FIND GRAD)\n",
        "    ### START CODE HERE ### (≈ 2 lines of code)\n",
        "    \n",
        "    dw = 1/m*np.dot(X,(A-Y).T)\n",
        "    db = 1/m*np.sum(A-Y)\n",
        "    ### END CODE HERE ###\n",
        "\n",
        "    assert(dw.shape == w.shape)\n",
        "    assert(db.dtype == float)\n",
        "    cost = np.squeeze(cost)\n",
        "    assert(cost.shape == ())\n",
        "    \n",
        "    grads = {\"dw\": dw,\n",
        "             \"db\": db}\n",
        "    \n",
        "    return grads, cost "
      ]
    },
    {
      "cell_type": "code",
      "execution_count": 64,
      "metadata": {
        "id": "9fp2Nsaew477",
        "colab": {
          "base_uri": "https://localhost:8080/"
        },
        "outputId": "e64e571d-3da9-47cf-de25-7f8f4bb905a1"
      },
      "outputs": [
        {
          "output_type": "stream",
          "name": "stdout",
          "text": [
            "dw = [[0.99845601]\n",
            " [2.39507239]]\n",
            "db = 0.001455578136784208\n",
            "cost = 5.801545319394553\n"
          ]
        }
      ],
      "source": [
        "w, b, X, Y = np.array([[1.],[2.]]), 2., np.array([[1.,2.,-1.],[3.,4.,-3.2]]), np.array([[1,0,1]])\n",
        "grads, cost = propagate(w, b, X, Y)\n",
        "print (\"dw = \" + str(grads[\"dw\"])) \n",
        "print (\"db = \" + str(grads[\"db\"]))\n",
        "print (\"cost = \" + str(cost))\n"
      ]
    },
    {
      "cell_type": "markdown",
      "metadata": {
        "id": "-xWMe28cw477"
      },
      "source": [
        "**Expected Output**:\n",
        "\n",
        "<table style=\"width:50%\">\n",
        "    <tr>\n",
        "        <td>  ** dw **  </td>\n",
        "      <td> [[ 0.99845601]\n",
        "     [ 2.39507239]]</td>\n",
        "    </tr>\n",
        "    <tr>\n",
        "        <td>  ** db **  </td>\n",
        "        <td> 0.00145557813678 </td>\n",
        "    </tr>\n",
        "    <tr>\n",
        "        <td>  ** cost **  </td>\n",
        "        <td> 5.801545319394553 </td>\n",
        "    </tr>\n",
        "\n",
        "</table>"
      ]
    },
    {
      "cell_type": "markdown",
      "metadata": {
        "id": "xepk9f9ww477"
      },
      "source": [
        "### 3.4 - Optimization\n",
        "- You have initialized your parameters.\n",
        "- You are also able to compute a cost function and its gradient.\n",
        "- Now, you want to update the parameters using gradient descent.\n"
      ]
    },
    {
      "cell_type": "markdown",
      "source": [
        "\n",
        "####Exercise 6 - optimize\n",
        "Write down the optimization function. The goal is to learn $w$ and $b$ by minimizing the cost function $J$. For a parameter $\\theta$, the update rule is $ \\theta = \\theta - \\alpha \\text{ } d\\theta$, where $\\alpha$ is the learning rate."
      ],
      "metadata": {
        "id": "iAEKZDUX2X2a"
      }
    },
    {
      "cell_type": "code",
      "execution_count": 80,
      "metadata": {
        "collapsed": true,
        "id": "83SNAN3Yw477"
      },
      "outputs": [],
      "source": [
        "# GRADED FUNCTION: optimize\n",
        "\n",
        "def optimize(w, b, X, Y, numIterations, learningRate, printCost = False):\n",
        "    \"\"\"\n",
        "    This function optimizes w and b by running a gradient descent algorithm\n",
        "    \n",
        "    Arguments:\n",
        "    w -- weights, a numpy array of size (num_px * num_px * 3, 1) # n,1\n",
        "    b -- bias, a scalar # 1\n",
        "    X -- data of shape (num_px * num_px * 3, number of examples) # n,m\n",
        "    Y -- true \"label\" vector (containing 0 if non-cat, 1 if cat), of shape (1, number of examples) #1,m\n",
        "    num_iterations -- number of iterations of the optimization loop\n",
        "    learning_rate -- learning rate of the gradient descent update rule\n",
        "    print_cost -- True to print the loss every 100 steps\n",
        "    \n",
        "    Returns:\n",
        "    params -- dictionary containing the weights w and bias b\n",
        "    grads -- dictionary containing the gradients of the weights and bias with respect to the cost function\n",
        "    costs -- list of all the costs computed during the optimization, this will be used to plot the learning curve.\n",
        "    \n",
        "    Tips:\n",
        "    You basically need to write down two steps and iterate through them:\n",
        "        1) Calculate the cost and the gradient for the current parameters. Use propagate().\n",
        "        2) Update the parameters using gradient descent rule for w and b.\n",
        "    \"\"\"\n",
        "    #w = copy.deepcopy(w)\n",
        "    #b = copy.deepcopy(b)\n",
        "\n",
        "    costs = []\n",
        "    \n",
        "    for i in range(numIterations):\n",
        "        \n",
        "        \n",
        "        # Cost and gradient calculation (≈ 1-4 lines of code)\n",
        "        ### START CODE HERE ### \n",
        "        grads, cost = copy.deepcopy(propagate(w, b, X, Y))\n",
        "        ### END CODE HERE ###\n",
        "        \n",
        "        # Retrieve derivatives from grads\n",
        "        dw =  grads[\"dw\"]\n",
        "        db =  grads[\"db\"]\n",
        "        \n",
        "        # update rule (≈ 2 lines of code)\n",
        "        ### START CODE HERE ###\n",
        "        w =  w - learningRate*dw\n",
        "        b =  b - learningRate*db\n",
        "        ### END CODE HERE ###\n",
        "        \n",
        "        # Record the costs\n",
        "        if i % 100 == 0:\n",
        "            costs.append(cost)\n",
        "        \n",
        "        # Print the cost every 100 training iterations\n",
        "        if printCost and i % 100 == 0:\n",
        "            print (\"Cost after iteration %i: %f\" %(i, cost))\n",
        "    \n",
        "    params = {\"w\": w,\n",
        "              \"b\": b}\n",
        "    \n",
        "    grads = {\"dw\": dw,\n",
        "             \"db\": db}\n",
        "    \n",
        "    return params, grads, costs"
      ]
    },
    {
      "cell_type": "code",
      "execution_count": 81,
      "metadata": {
        "id": "7hR9Wd3bw478",
        "colab": {
          "base_uri": "https://localhost:8080/"
        },
        "outputId": "63112dc1-a3b8-4f30-f692-de224011f861"
      },
      "outputs": [
        {
          "output_type": "stream",
          "name": "stdout",
          "text": [
            "w = [[0.19033591]\n",
            " [0.12259159]]\n",
            "b = 1.9253598300845747\n",
            "dw = [[0.67752042]\n",
            " [1.41625495]]\n",
            "db = 0.21919450454067657\n"
          ]
        }
      ],
      "source": [
        "params, grads, costs = optimize(w, b, X, Y, numIterations= 100, learningRate = 0.009, printCost = False)\n",
        "\n",
        "print (\"w = \" + str(params[\"w\"]))\n",
        "print (\"b = \" + str(params[\"b\"]))\n",
        "print (\"dw = \" + str(grads[\"dw\"]))\n",
        "print (\"db = \" + str(grads[\"db\"]))"
      ]
    },
    {
      "cell_type": "markdown",
      "source": [
        "**Expected Output**: \n",
        "\n",
        "|||\n",
        "|--|--|\n",
        "|w|[[ 0.19033591] [ 0.12259159]]|\n",
        "|b|1.92535983008|\n",
        "|dw|[[0.67752042] [1.41625495]]|\n",
        "|db|0.219194504541|"
      ],
      "metadata": {
        "id": "2zC4pH2R4MKL"
      }
    },
    {
      "cell_type": "markdown",
      "metadata": {
        "id": "3SM3WO5Rw478"
      },
      "source": [
        "#### Exercise 7 - predict\n",
        "The previous function will output the learned w and b. We are able to use w and b to predict the labels for a dataset X. Implement the `predict()` function. There are two steps to computing predictions:\n",
        "\n",
        "1. Calculate $\\hat{Y} = A = \\sigma(w^T X + b)$\n",
        "\n",
        "2. Convert the entries of a into 0 (if activation <= 0.5) or 1 (if activation > 0.5), stores the predictions in a vector `Y_prediction`. If you wish, you can use an `if`/`else` statement in a `for` loop (though there is also a way to vectorize this). "
      ]
    },
    {
      "cell_type": "code",
      "execution_count": 123,
      "metadata": {
        "collapsed": true,
        "id": "9cBfY8b4w478"
      },
      "outputs": [],
      "source": [
        "# GRADED FUNCTION: predict\n",
        "\n",
        "def predict(w, b, X):\n",
        "    '''\n",
        "    Predict whether the label is 0 or 1 using learned logistic regression parameters (w, b)\n",
        "    \n",
        "    Arguments:\n",
        "    w -- weights, a numpy array of size (num_px * num_px * 3, 1)\n",
        "    b -- bias, a scalar\n",
        "    X -- data of size (num_px * num_px * 3, number of examples)\n",
        "    \n",
        "    Returns:\n",
        "    YPrediction -- a numpy array (vector) containing all predictions (0/1) for the examples in X\n",
        "    '''\n",
        "    \n",
        "    m = X.shape[1] # X행렬의 열벡터 3줄\n",
        "    YPrediction = np.zeros((1,m)) #(1,3)의 0행렬  (0,0,0)\n",
        "\n",
        "    w = w.reshape(X.shape[0], 1) #(2,1)로 reshape \n",
        "    # w.T(1,2) X(2,3) \n",
        "    # Compute vector \"A\" predicting the probabilities of a cat being present in the picture\n",
        "    ### START CODE HERE ### (≈ 1 line of code)\n",
        "    A =  sigmoid(np.dot(w.T,X)) # (1,2)(3,2) => (1,3)\n",
        "    ### END CODE HERE ###\n",
        "    \n",
        "    for i in range(A.shape[1]):                 # 3번 반복\n",
        "      # Convert probabilities A[0,i] to actual predictions p[0,i]\n",
        "      ### START CODE HERE ### (≈ 4 lines of code)\n",
        "      if A[0, i] <= 0.5 :\n",
        "        YPrediction[0,i] = 0\n",
        "        #np.insert(YPrediction, i, 1, axis=None) #(1,3)의 0행렬  (0,0,0)\n",
        "      else:\n",
        "        YPrediction[0,i] = 1\n",
        "        #np.insert(YPrediction, i, 0, axis=None) \n",
        "      ### END CODE HERE ###\n",
        "    \n",
        "    assert(YPrediction.shape == (1, m))\n",
        "    \n",
        "    return YPrediction"
      ]
    },
    {
      "cell_type": "code",
      "execution_count": 124,
      "metadata": {
        "id": "7CYtqGZ-w478",
        "colab": {
          "base_uri": "https://localhost:8080/"
        },
        "outputId": "c08f3c1f-135b-471c-f658-615907d368e5"
      },
      "outputs": [
        {
          "output_type": "stream",
          "name": "stdout",
          "text": [
            "predictions = [[1. 1. 0.]]\n"
          ]
        }
      ],
      "source": [
        "w = np.array([[0.1124579],[0.23106775]])\n",
        "b = -0.3\n",
        "X = np.array([[1.,-1.1,-3.2],[1.2,2.,0.1]])\n",
        "print (\"predictions = \" + str(predict(w, b, X)))"
      ]
    },
    {
      "cell_type": "markdown",
      "metadata": {
        "id": "Ggjwcybzw479"
      },
      "source": [
        "**Expected Output**: \n",
        "\n",
        "<table style=\"width:30%\">\n",
        "    <tr>\n",
        "         <td>\n",
        "             **predictions**\n",
        "         </td>\n",
        "          <td>\n",
        "            [[ 1.  1.  0.]]\n",
        "         </td>  \n",
        "   </tr>\n",
        "\n",
        "</table>\n"
      ]
    },
    {
      "cell_type": "markdown",
      "metadata": {
        "id": "cQ7DoShIw479"
      },
      "source": [
        "<font color='blue'>\n",
        "**What to remember:**\n",
        "\n",
        "You've implemented several functions that:\n",
        "- Initialize (w,b)\n",
        "- Optimize the loss iteratively to learn parameters (w,b):\n",
        "    - computing the cost and its gradient \n",
        "    - updating the parameters using gradient descent\n",
        "- Use the learned (w,b) to predict the labels for a given set of examples"
      ]
    },
    {
      "cell_type": "markdown",
      "metadata": {
        "id": "QhV5j8Npw479"
      },
      "source": [
        "## 4 - Merge all functions into a model ##\n",
        "\n",
        "You will now see how the overall model is structured by putting together all the building blocks (functions implemented in the previous parts) together, in the right order.\n",
        "\n"
      ]
    },
    {
      "cell_type": "markdown",
      "source": [
        "### Exercise 8 - model\n",
        "Implement the model function. Use the following notation:\n",
        "* YPredictionTest for your predictions on the test set\n",
        "* YPredictionTrain for your predictions on the train set\n",
        "* w, costs, grads for the outputs of optimize()"
      ],
      "metadata": {
        "id": "zJ4xC9q13Pcc"
      }
    },
    {
      "cell_type": "code",
      "source": [
        "print(trainSetX.shape)"
      ],
      "metadata": {
        "id": "Qpg2VVf854jr"
      },
      "execution_count": null,
      "outputs": []
    },
    {
      "cell_type": "code",
      "execution_count": null,
      "metadata": {
        "collapsed": true,
        "id": "cGh_LG8Cw479"
      },
      "outputs": [],
      "source": [
        "# GRADED FUNCTION: model\n",
        "\n",
        "def model(XTrain, YTrain, XTest, YTest, numIterations = 2000, learningRate = 0.5, printCost = False):\n",
        "    \"\"\"\n",
        "    Builds the logistic regression model by calling the function you've implemented previously\n",
        "    \n",
        "    Arguments:\n",
        "    XTrain -- training set represented by a numpy array of shape (num_px * num_px * 3, m_train)\n",
        "    YTrain -- training labels represented by a numpy array (vector) of shape (1, m_train)\n",
        "    XTest -- test set represented by a numpy array of shape (num_px * num_px * 3, m_test)\n",
        "    YTest -- test labels represented by a numpy array (vector) of shape (1, m_test)\n",
        "    numIterations -- hyperparameter representing the number of iterations to optimize the parameters\n",
        "    learningRate -- hyperparameter representing the learning rate used in the update rule of optimize()\n",
        "    printCost -- Set to true to print the cost every 100 iterations\n",
        "    \n",
        "    Returns:\n",
        "    d -- dictionary containing information about the model.\n",
        "    \"\"\"\n",
        "    \n",
        "    ### START CODE HERE ###\n",
        "    \n",
        "    # initialize parameters with zeros (≈ 1 line of code)\n",
        "    w, b =                                                # nx of XTrain\n",
        "\n",
        "    # Gradient descent (≈ 1 line of code)\n",
        "    parameters, grads, costs = \n",
        "    \n",
        "    # Retrieve parameters w and b from dictionary \"parameters\"\n",
        "    w = \n",
        "    b = \n",
        "    \n",
        "    # Predict test/train set examples (≈ 2 lines of code)\n",
        "    YPredictionTest = \n",
        "    YPredictionTrain = \n",
        "\n",
        "    ### END CODE HERE ###\n",
        "\n",
        "    # Print train/test Errors\n",
        "    if printCost:\n",
        "      print(\"train accuracy: {} %\".format(100 - np.mean(np.abs(YPredictionTrain - YTrain)) * 100))\n",
        "      print(\"test accuracy: {} %\".format(100 - np.mean(np.abs(YPredictionTest - YTest)) * 100))\n",
        "\n",
        "    \n",
        "    d = {\"costs\": costs,\n",
        "         \"YPredictionTest\": YPredictionTest, \n",
        "         \"YPredictionTrain\" : YPredictionTrain, \n",
        "         \"w\" : w, \n",
        "         \"b\" : b,\n",
        "         \"learningRate\" : learningRate,\n",
        "         \"numIterations\": numIterations}\n",
        "    \n",
        "    return d"
      ]
    },
    {
      "cell_type": "markdown",
      "metadata": {
        "id": "IMNEitgNw479"
      },
      "source": [
        "Run the following cell to train your model."
      ]
    },
    {
      "cell_type": "code",
      "execution_count": null,
      "metadata": {
        "id": "8O-uWM0aw479"
      },
      "outputs": [],
      "source": [
        "logisticRegressionModel = model(trainSetX, trainSetY, testSetX, testSetY, numIterations = 2000, learningRate = 0.005, printCost = True)"
      ]
    },
    {
      "cell_type": "markdown",
      "source": [
        "**Expected Output**: \n",
        "\n",
        "|||\n",
        "|--|--|\n",
        "|Cost after iteration 0|0.693147|\n",
        "|Train Accuracy|99.04306220095694|\n",
        "|Test Accuracy|70.0 %|"
      ],
      "metadata": {
        "id": "GiOFRQxI8_MM"
      }
    },
    {
      "cell_type": "markdown",
      "metadata": {
        "id": "svvxb1ngw47-"
      },
      "source": [
        "**Comment**: Training accuracy is close to 100%. This is a good sanity check: your model is working and has high enough capacity to fit the training data. Test accuracy is 68%. It is actually not bad for this simple model, given the small dataset we used and that logistic regression is a linear classifier. But no worries, you'll build an even better classifier next week!\n",
        "\n",
        "Also, you see that the model is clearly overfitting the training data. Later in this specialization you will learn how to reduce overfitting, for example by using regularization. Using the code below (and changing the `index` variable) you can look at predictions on pictures of the test set."
      ]
    },
    {
      "cell_type": "code",
      "execution_count": null,
      "metadata": {
        "id": "FjIZ6zeEw47-"
      },
      "outputs": [],
      "source": [
        "# Example of a picture that was wrongly classified.\n",
        "index = 1\n",
        "plt.imshow(testSetX[:,index].reshape((numPixel, numPixel, 3)))\n",
        "print (\"y = \" + str(testSetY[0,index]) + \", you predicted that it is a \\\"\" + classes[int(logisticRegressionModel['YPredictionTest'][0,index])].decode(\"utf-8\") +  \"\\\" picture.\")"
      ]
    },
    {
      "cell_type": "markdown",
      "metadata": {
        "id": "lbDIKKAPw47-"
      },
      "source": [
        "Let's also plot the cost function and the gradients."
      ]
    },
    {
      "cell_type": "code",
      "execution_count": null,
      "metadata": {
        "id": "1Q_X2PPSw47-"
      },
      "outputs": [],
      "source": [
        "# Plot learning curve (with costs)\n",
        "print(type(logisticRegressionModel['costs']))\n",
        "costs = np.squeeze(logisticRegressionModel['costs'])\n",
        "array_info(costs, retrieve_name)\n",
        "plt.plot(costs)\n",
        "plt.ylabel('cost')\n",
        "plt.xlabel('iterations (per hundreds)')\n",
        "plt.title(\"Learning rate =\" + str(logisticRegressionModel[\"learningRate\"]))\n",
        "plt.show()"
      ]
    },
    {
      "cell_type": "markdown",
      "metadata": {
        "id": "YHKdfP-zw47_"
      },
      "source": [
        "**Interpretation**:\n",
        "You can see the cost decreasing. It shows that the parameters are being learned. However, you see that you could train the model even more on the training set. Try to increase the number of iterations in the cell above and rerun the cells. You might see that the training set accuracy goes up, but the test set accuracy goes down. This is called overfitting. "
      ]
    }
  ],
  "metadata": {
    "coursera": {
      "course_slug": "neural-networks-deep-learning",
      "graded_item_id": "XaIWT",
      "launcher_item_id": "zAgPl"
    },
    "kernelspec": {
      "display_name": "Python 3",
      "language": "python",
      "name": "python3"
    },
    "language_info": {
      "codemirror_mode": {
        "name": "ipython",
        "version": 3
      },
      "file_extension": ".py",
      "mimetype": "text/x-python",
      "name": "python",
      "nbconvert_exporter": "python",
      "pygments_lexer": "ipython3",
      "version": "3.7.4"
    },
    "colab": {
      "provenance": [],
      "include_colab_link": true
    }
  },
  "nbformat": 4,
  "nbformat_minor": 0
}