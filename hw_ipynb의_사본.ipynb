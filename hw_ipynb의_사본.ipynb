{
  "nbformat": 4,
  "nbformat_minor": 0,
  "metadata": {
    "colab": {
      "provenance": [],
      "include_colab_link": true
    },
    "kernelspec": {
      "name": "python3",
      "display_name": "Python 3"
    },
    "language_info": {
      "name": "python"
    }
  },
  "cells": [
    {
      "cell_type": "markdown",
      "metadata": {
        "id": "view-in-github",
        "colab_type": "text"
      },
      "source": [
        "<a href=\"https://colab.research.google.com/github/PSuYong/Project/blob/main/hw_ipynb%EC%9D%98_%EC%82%AC%EB%B3%B8.ipynb\" target=\"_parent\"><img src=\"https://colab.research.google.com/assets/colab-badge.svg\" alt=\"Open In Colab\"/></a>"
      ]
    },
    {
      "cell_type": "code",
      "source": [
        "import requests\n",
        "import json"
      ],
      "metadata": {
        "id": "bt12urUat6Gf"
      },
      "execution_count": 1,
      "outputs": []
    },
    {
      "cell_type": "code",
      "source": [
        "!pip install --upgrade gdown"
      ],
      "metadata": {
        "colab": {
          "base_uri": "https://localhost:8080/"
        },
        "id": "eqdTJkWhPuD-",
        "outputId": "fc437051-80e5-4060-aa9d-74398b602192"
      },
      "execution_count": 2,
      "outputs": [
        {
          "output_type": "stream",
          "name": "stdout",
          "text": [
            "Looking in indexes: https://pypi.org/simple, https://us-python.pkg.dev/colab-wheels/public/simple/\n",
            "Requirement already satisfied: gdown in /usr/local/lib/python3.8/dist-packages (4.4.0)\n",
            "Collecting gdown\n",
            "  Downloading gdown-4.6.0-py3-none-any.whl (14 kB)\n",
            "Requirement already satisfied: filelock in /usr/local/lib/python3.8/dist-packages (from gdown) (3.8.2)\n",
            "Requirement already satisfied: tqdm in /usr/local/lib/python3.8/dist-packages (from gdown) (4.64.1)\n",
            "Requirement already satisfied: beautifulsoup4 in /usr/local/lib/python3.8/dist-packages (from gdown) (4.6.3)\n",
            "Requirement already satisfied: six in /usr/local/lib/python3.8/dist-packages (from gdown) (1.15.0)\n",
            "Requirement already satisfied: requests[socks] in /usr/local/lib/python3.8/dist-packages (from gdown) (2.25.1)\n",
            "Requirement already satisfied: urllib3<1.27,>=1.21.1 in /usr/local/lib/python3.8/dist-packages (from requests[socks]->gdown) (1.24.3)\n",
            "Requirement already satisfied: certifi>=2017.4.17 in /usr/local/lib/python3.8/dist-packages (from requests[socks]->gdown) (2022.12.7)\n",
            "Requirement already satisfied: chardet<5,>=3.0.2 in /usr/local/lib/python3.8/dist-packages (from requests[socks]->gdown) (4.0.0)\n",
            "Requirement already satisfied: idna<3,>=2.5 in /usr/local/lib/python3.8/dist-packages (from requests[socks]->gdown) (2.10)\n",
            "Requirement already satisfied: PySocks!=1.5.7,>=1.5.6 in /usr/local/lib/python3.8/dist-packages (from requests[socks]->gdown) (1.7.1)\n",
            "Installing collected packages: gdown\n",
            "  Attempting uninstall: gdown\n",
            "    Found existing installation: gdown 4.4.0\n",
            "    Uninstalling gdown-4.4.0:\n",
            "      Successfully uninstalled gdown-4.4.0\n",
            "Successfully installed gdown-4.6.0\n"
          ]
        }
      ]
    },
    {
      "cell_type": "code",
      "source": [
        "# https://drive.google.com/file/d/1R7i1XqmiJ_NirSEwQg1lLz6utzrTufVW/view?usp=share_link\n",
        "!gdown 1R7i1XqmiJ_NirSEwQg1lLz6utzrTufVW"
      ],
      "metadata": {
        "colab": {
          "base_uri": "https://localhost:8080/"
        },
        "id": "DgBq19XHPJ3v",
        "outputId": "baff4070-21ab-4a99-c895-ed8143dda2a1"
      },
      "execution_count": 3,
      "outputs": [
        {
          "output_type": "stream",
          "name": "stdout",
          "text": [
            "Downloading...\n",
            "From: https://drive.google.com/uc?id=1R7i1XqmiJ_NirSEwQg1lLz6utzrTufVW\n",
            "To: /content/chkmethod.py\n",
            "\r  0% 0.00/1.65k [00:00<?, ?B/s]\r100% 1.65k/1.65k [00:00<00:00, 3.01MB/s]\n"
          ]
        }
      ]
    },
    {
      "cell_type": "code",
      "source": [
        "from chkmethod import check_str, check_strlist, check_range, check_num, summary"
      ],
      "metadata": {
        "id": "OQILOsSzPgTO"
      },
      "execution_count": 4,
      "outputs": []
    },
    {
      "cell_type": "code",
      "source": [
        "import numpy as np\n",
        "import sympy as S\n",
        "\n",
        "ans = {}"
      ],
      "metadata": {
        "id": "6LaDr9vnoSBY"
      },
      "execution_count": 6,
      "outputs": []
    },
    {
      "cell_type": "markdown",
      "source": [
        "## 다음 어레이 `A`에 대해서 물음에 답하시오."
      ],
      "metadata": {
        "id": "UctoU4NIoIlx"
      }
    },
    {
      "cell_type": "code",
      "source": [
        "np.random.seed(42) # seed 42번 값에 저장된것이 아래 array 행렬이다.\n",
        "A = np.random.rand(10*3).reshape(10,3)\n",
        "A"
      ],
      "metadata": {
        "colab": {
          "base_uri": "https://localhost:8080/"
        },
        "id": "KYDA11EvoYQC",
        "outputId": "06db57d0-cd81-4d56-9759-88eee209d534"
      },
      "execution_count": 7,
      "outputs": [
        {
          "output_type": "execute_result",
          "data": {
            "text/plain": [
              "array([[0.37454012, 0.95071431, 0.73199394],\n",
              "       [0.59865848, 0.15601864, 0.15599452],\n",
              "       [0.05808361, 0.86617615, 0.60111501],\n",
              "       [0.70807258, 0.02058449, 0.96990985],\n",
              "       [0.83244264, 0.21233911, 0.18182497],\n",
              "       [0.18340451, 0.30424224, 0.52475643],\n",
              "       [0.43194502, 0.29122914, 0.61185289],\n",
              "       [0.13949386, 0.29214465, 0.36636184],\n",
              "       [0.45606998, 0.78517596, 0.19967378],\n",
              "       [0.51423444, 0.59241457, 0.04645041]])"
            ]
          },
          "metadata": {},
          "execution_count": 7
        }
      ]
    },
    {
      "cell_type": "markdown",
      "source": [
        "### 1. 주어진 어레이 `A`의 3열 값을 0.5보다 같거나 크면 1, 0.5보다 작으면 0으로 바꾸고 1로 바뀐 것은 모두 몇개인지 계산하시오."
      ],
      "metadata": {
        "id": "wj5c0hxjrQyL"
      }
    },
    {
      "cell_type": "code",
      "source": [
        "li1 =[]\n",
        "li2 = []\n",
        "\n",
        "A = [[0.37454012, 0.95071431, 0.73199394],\n",
        "       [0.59865848, 0.15601864, 0.15599452],\n",
        "       [0.05808361, 0.86617615, 0.60111501],\n",
        "       [0.70807258, 0.02058449, 0.96990985],\n",
        "       [0.83244264, 0.21233911, 0.18182497],\n",
        "       [0.18340451, 0.30424224, 0.52475643],\n",
        "       [0.43194502, 0.29122914, 0.61185289],\n",
        "       [0.13949386, 0.29214465, 0.36636184],\n",
        "       [0.45606998, 0.78517596, 0.19967378],\n",
        "       [0.51423444, 0.59241457, 0.04645041]]\n",
        "\n",
        "for i in range(10):\n",
        "  if A[i][2] >= 0.5: \n",
        "    A[i][2] = 1\n",
        "    li1.append(1)\n",
        "  elif A[i][2] < 0.5: \n",
        "    A[i][2] = 0\n",
        "    li2.append(1)\n",
        "\n",
        "\n",
        "print(A,sep='\\n')\n",
        "print(len(li2),len(li1))"
      ],
      "metadata": {
        "id": "L2D62PrBo1vj",
        "colab": {
          "base_uri": "https://localhost:8080/"
        },
        "outputId": "831bda6f-7666-4831-8385-32fd457ab4c9"
      },
      "execution_count": 25,
      "outputs": [
        {
          "output_type": "stream",
          "name": "stdout",
          "text": [
            "[[0.37454012, 0.95071431, 1], [0.59865848, 0.15601864, 0], [0.05808361, 0.86617615, 1], [0.70807258, 0.02058449, 1], [0.83244264, 0.21233911, 0], [0.18340451, 0.30424224, 1], [0.43194502, 0.29122914, 1], [0.13949386, 0.29214465, 0], [0.45606998, 0.78517596, 0], [0.51423444, 0.59241457, 0]]\n",
            "5 5\n"
          ]
        }
      ]
    },
    {
      "cell_type": "code",
      "source": [
        "######################################################################\n",
        "# ans['p1']에 정답을 int()로 감싸서 int형으로 변환하여 대입하시오.\n",
        "######################################################################\n",
        "\n",
        "ans['int'] = None"
      ],
      "metadata": {
        "id": "PiNBvMlnsQON"
      },
      "execution_count": 8,
      "outputs": []
    },
    {
      "cell_type": "markdown",
      "source": [
        "### 2. 1번과 동일한 절차로 아래 만들어진 `(10000,3)`인 어레이의 3열에서 0.5보다 같거나 큰 숫자는 모두 몇개인지 계산하시오."
      ],
      "metadata": {
        "id": "G-vVsubprnhY"
      }
    },
    {
      "cell_type": "code",
      "source": [
        "np.random.seed(42)\n",
        "B = np.random.rand(10000*3).reshape(10000,3)\n",
        "B"
      ],
      "metadata": {
        "id": "98InXtYiqGbO",
        "colab": {
          "base_uri": "https://localhost:8080/"
        },
        "outputId": "65799e03-4462-4897-fe9f-9add8231ab19"
      },
      "execution_count": 28,
      "outputs": [
        {
          "output_type": "execute_result",
          "data": {
            "text/plain": [
              "array([[0.37454012, 0.95071431, 0.73199394],\n",
              "       [0.59865848, 0.15601864, 0.15599452],\n",
              "       [0.05808361, 0.86617615, 0.60111501],\n",
              "       ...,\n",
              "       [0.77707099, 0.15825956, 0.12330421],\n",
              "       [0.2693165 , 0.95227545, 0.74782421],\n",
              "       [0.01945586, 0.40100484, 0.25739798]])"
            ]
          },
          "metadata": {},
          "execution_count": 28
        }
      ]
    },
    {
      "cell_type": "code",
      "source": [
        "######################################################################\n",
        "# ans['p2']에 정답을 int()로 감싸서 int형으로 변환하여 대입하시오.\n",
        "######################################################################\n",
        "\n",
        "li3 = []\n",
        "li4 = []\n",
        "\n",
        "for i in range(10000):\n",
        "  if B[i][2] >= 0.5: \n",
        "    B[i][2] = 1\n",
        "    li3.append(1)\n",
        "  elif B[i][2] < 0.5: \n",
        "    B[i][2] = 0\n",
        "    li4.append(1)\n",
        "\n",
        "\n",
        "print(B,sep='\\n')\n",
        "print(len(li3),len(li4))\n",
        "\n",
        "ans['p2'] = None"
      ],
      "metadata": {
        "id": "NMS5bomtsXAM",
        "colab": {
          "base_uri": "https://localhost:8080/"
        },
        "outputId": "21528928-45cf-458f-c6e7-f0568e6b19f5"
      },
      "execution_count": 30,
      "outputs": [
        {
          "output_type": "stream",
          "name": "stdout",
          "text": [
            "[[0.37454012 0.95071431 1.        ]\n",
            " [0.59865848 0.15601864 0.        ]\n",
            " [0.05808361 0.86617615 1.        ]\n",
            " ...\n",
            " [0.77707099 0.15825956 0.        ]\n",
            " [0.2693165  0.95227545 1.        ]\n",
            " [0.01945586 0.40100484 0.        ]]\n",
            "4989 5011\n"
          ]
        }
      ]
    },
    {
      "cell_type": "markdown",
      "source": [
        "## 다음 함수를 주어진 미분하기 위해 다음 문제에 답하시오.\n",
        "\n",
        "$$\n",
        "y = \\left( \\frac{\\sqrt{x}}{2} - 1 \\right)^{-10}\n",
        "$$\n",
        "\n",
        "\n"
      ],
      "metadata": {
        "id": "2KrQO1YtmpB7"
      }
    },
    {
      "cell_type": "markdown",
      "source": [
        "### 3. 심파이를 써서 도함수를 구하고 $x=1$ 에서 함수 값과 미분 계수를 계산하시오."
      ],
      "metadata": {
        "id": "jg9dOWxPmzv7"
      }
    },
    {
      "cell_type": "code",
      "source": [
        "from sympy import *\n",
        "\n",
        "x,y,z = symbols('x y z')\n",
        "\n",
        "f = ((sqrt(x)/2)-1)**(-10)\n",
        "result = diff(f,x)\n",
        "print(f.subs(x,1))\n",
        "print(result)\n",
        "print(result.subs(x,1))\n",
        "print(x**2 + x + sqrt(x))"
      ],
      "metadata": {
        "id": "yojeshZCm73m",
        "colab": {
          "base_uri": "https://localhost:8080/"
        },
        "outputId": "32e161f2-59d1-4b2f-9616-183f6d30af87"
      },
      "execution_count": 45,
      "outputs": [
        {
          "output_type": "stream",
          "name": "stdout",
          "text": [
            "1024\n",
            "-5/(2*sqrt(x)*(sqrt(x)/2 - 1)**11)\n",
            "5120\n",
            "sqrt(x) + x**2 + x\n"
          ]
        }
      ]
    },
    {
      "cell_type": "code",
      "source": [
        "######################################################################\n",
        "# ans['p3']에 정답을 float()로 감싸서 float형으로 변환하여 대입하시오.\n",
        "######################################################################\n",
        "\n",
        "ans['p3'] = None"
      ],
      "metadata": {
        "id": "KWedaXr3sOPa"
      },
      "execution_count": null,
      "outputs": []
    },
    {
      "cell_type": "markdown",
      "source": [
        "\n",
        "\n",
        "```\n",
        "# 코드로 형식 지정됨\n",
        "```\n",
        "\n",
        "### 4. 주어진 함수를 자동 미분하기 위해 포워드 패스에서 변수의 거듭 제곱을 계산하고 백워드에서 포워드 패스 함수의 도함수 값을 계산하는 `pow(x, n)` 함수를 정의하시오. 그리고 $x=0.631$, $n=3$ 에서 함수값과 도함수 값을 구하시오.\n",
        "\n",
        "example) f(x) -> x^2 포워드 패스\n",
        "         f'(x) -> 2x 백워드 패스 "
      ],
      "metadata": {
        "id": "d7NRRmY-m9IK"
      }
    },
    {
      "cell_type": "code",
      "source": [
        "from sympy import *\n",
        "\n",
        "x,n = symbols('x n')\n",
        "func = x**n\n",
        "\n",
        "def pow(x, n):\n",
        "  result2 = diff(func,x)\n",
        "  return func, result2\n",
        "\n",
        "pow(0.631,3)"
      ],
      "metadata": {
        "id": "5wHHBEeGnkCK",
        "colab": {
          "base_uri": "https://localhost:8080/",
          "height": 385
        },
        "outputId": "6f0760ee-100f-4bfd-c7b8-05e3db7b72a9"
      },
      "execution_count": 49,
      "outputs": [
        {
          "output_type": "error",
          "ename": "ValueError",
          "evalue": "ignored",
          "traceback": [
            "\u001b[0;31m---------------------------------------------------------------------------\u001b[0m",
            "\u001b[0;31mValueError\u001b[0m                                Traceback (most recent call last)",
            "\u001b[0;32m<ipython-input-49-20666080f6af>\u001b[0m in \u001b[0;36m<module>\u001b[0;34m\u001b[0m\n\u001b[1;32m      8\u001b[0m   \u001b[0;32mreturn\u001b[0m \u001b[0mfunc\u001b[0m\u001b[0;34m,\u001b[0m \u001b[0mresult2\u001b[0m\u001b[0;34m\u001b[0m\u001b[0;34m\u001b[0m\u001b[0m\n\u001b[1;32m      9\u001b[0m \u001b[0;34m\u001b[0m\u001b[0m\n\u001b[0;32m---> 10\u001b[0;31m \u001b[0mpow\u001b[0m\u001b[0;34m(\u001b[0m\u001b[0;36m0.631\u001b[0m\u001b[0;34m,\u001b[0m\u001b[0;36m3\u001b[0m\u001b[0;34m)\u001b[0m\u001b[0;34m\u001b[0m\u001b[0;34m\u001b[0m\u001b[0m\n\u001b[0m",
            "\u001b[0;32m<ipython-input-49-20666080f6af>\u001b[0m in \u001b[0;36mpow\u001b[0;34m(x, n)\u001b[0m\n\u001b[1;32m      5\u001b[0m \u001b[0;34m\u001b[0m\u001b[0m\n\u001b[1;32m      6\u001b[0m \u001b[0;32mdef\u001b[0m \u001b[0mpow\u001b[0m\u001b[0;34m(\u001b[0m\u001b[0mx\u001b[0m\u001b[0;34m,\u001b[0m \u001b[0mn\u001b[0m\u001b[0;34m)\u001b[0m\u001b[0;34m:\u001b[0m\u001b[0;34m\u001b[0m\u001b[0;34m\u001b[0m\u001b[0m\n\u001b[0;32m----> 7\u001b[0;31m   \u001b[0mresult2\u001b[0m \u001b[0;34m=\u001b[0m \u001b[0mdiff\u001b[0m\u001b[0;34m(\u001b[0m\u001b[0mfunc\u001b[0m\u001b[0;34m,\u001b[0m\u001b[0mx\u001b[0m\u001b[0;34m)\u001b[0m\u001b[0;34m\u001b[0m\u001b[0;34m\u001b[0m\u001b[0m\n\u001b[0m\u001b[1;32m      8\u001b[0m   \u001b[0;32mreturn\u001b[0m \u001b[0mfunc\u001b[0m\u001b[0;34m,\u001b[0m \u001b[0mresult2\u001b[0m\u001b[0;34m\u001b[0m\u001b[0;34m\u001b[0m\u001b[0m\n\u001b[1;32m      9\u001b[0m \u001b[0;34m\u001b[0m\u001b[0m\n",
            "\u001b[0;32m/usr/local/lib/python3.8/dist-packages/sympy/core/function.py\u001b[0m in \u001b[0;36mdiff\u001b[0;34m(f, *symbols, **kwargs)\u001b[0m\n\u001b[1;32m   2490\u001b[0m     \"\"\"\n\u001b[1;32m   2491\u001b[0m     \u001b[0;32mif\u001b[0m \u001b[0mhasattr\u001b[0m\u001b[0;34m(\u001b[0m\u001b[0mf\u001b[0m\u001b[0;34m,\u001b[0m \u001b[0;34m'diff'\u001b[0m\u001b[0;34m)\u001b[0m\u001b[0;34m:\u001b[0m\u001b[0;34m\u001b[0m\u001b[0;34m\u001b[0m\u001b[0m\n\u001b[0;32m-> 2492\u001b[0;31m         \u001b[0;32mreturn\u001b[0m \u001b[0mf\u001b[0m\u001b[0;34m.\u001b[0m\u001b[0mdiff\u001b[0m\u001b[0;34m(\u001b[0m\u001b[0;34m*\u001b[0m\u001b[0msymbols\u001b[0m\u001b[0;34m,\u001b[0m \u001b[0;34m**\u001b[0m\u001b[0mkwargs\u001b[0m\u001b[0;34m)\u001b[0m\u001b[0;34m\u001b[0m\u001b[0;34m\u001b[0m\u001b[0m\n\u001b[0m\u001b[1;32m   2493\u001b[0m     \u001b[0mkwargs\u001b[0m\u001b[0;34m.\u001b[0m\u001b[0msetdefault\u001b[0m\u001b[0;34m(\u001b[0m\u001b[0;34m'evaluate'\u001b[0m\u001b[0;34m,\u001b[0m \u001b[0;32mTrue\u001b[0m\u001b[0;34m)\u001b[0m\u001b[0;34m\u001b[0m\u001b[0;34m\u001b[0m\u001b[0m\n\u001b[1;32m   2494\u001b[0m     \u001b[0;32mreturn\u001b[0m \u001b[0m_derivative_dispatch\u001b[0m\u001b[0;34m(\u001b[0m\u001b[0mf\u001b[0m\u001b[0;34m,\u001b[0m \u001b[0;34m*\u001b[0m\u001b[0msymbols\u001b[0m\u001b[0;34m,\u001b[0m \u001b[0;34m**\u001b[0m\u001b[0mkwargs\u001b[0m\u001b[0;34m)\u001b[0m\u001b[0;34m\u001b[0m\u001b[0;34m\u001b[0m\u001b[0m\n",
            "\u001b[0;32m/usr/local/lib/python3.8/dist-packages/sympy/core/expr.py\u001b[0m in \u001b[0;36mdiff\u001b[0;34m(self, *symbols, **assumptions)\u001b[0m\n\u001b[1;32m   3472\u001b[0m     \u001b[0;32mdef\u001b[0m \u001b[0mdiff\u001b[0m\u001b[0;34m(\u001b[0m\u001b[0mself\u001b[0m\u001b[0;34m,\u001b[0m \u001b[0;34m*\u001b[0m\u001b[0msymbols\u001b[0m\u001b[0;34m,\u001b[0m \u001b[0;34m**\u001b[0m\u001b[0massumptions\u001b[0m\u001b[0;34m)\u001b[0m\u001b[0;34m:\u001b[0m\u001b[0;34m\u001b[0m\u001b[0;34m\u001b[0m\u001b[0m\n\u001b[1;32m   3473\u001b[0m         \u001b[0massumptions\u001b[0m\u001b[0;34m.\u001b[0m\u001b[0msetdefault\u001b[0m\u001b[0;34m(\u001b[0m\u001b[0;34m\"evaluate\"\u001b[0m\u001b[0;34m,\u001b[0m \u001b[0;32mTrue\u001b[0m\u001b[0;34m)\u001b[0m\u001b[0;34m\u001b[0m\u001b[0;34m\u001b[0m\u001b[0m\n\u001b[0;32m-> 3474\u001b[0;31m         \u001b[0;32mreturn\u001b[0m \u001b[0m_derivative_dispatch\u001b[0m\u001b[0;34m(\u001b[0m\u001b[0mself\u001b[0m\u001b[0;34m,\u001b[0m \u001b[0;34m*\u001b[0m\u001b[0msymbols\u001b[0m\u001b[0;34m,\u001b[0m \u001b[0;34m**\u001b[0m\u001b[0massumptions\u001b[0m\u001b[0;34m)\u001b[0m\u001b[0;34m\u001b[0m\u001b[0;34m\u001b[0m\u001b[0m\n\u001b[0m\u001b[1;32m   3475\u001b[0m \u001b[0;34m\u001b[0m\u001b[0m\n\u001b[1;32m   3476\u001b[0m     \u001b[0;31m###########################################################################\u001b[0m\u001b[0;34m\u001b[0m\u001b[0;34m\u001b[0m\u001b[0;34m\u001b[0m\u001b[0m\n",
            "\u001b[0;32m/usr/local/lib/python3.8/dist-packages/sympy/core/function.py\u001b[0m in \u001b[0;36m_derivative_dispatch\u001b[0;34m(expr, *variables, **kwargs)\u001b[0m\n\u001b[1;32m   1940\u001b[0m         \u001b[0;32mfrom\u001b[0m \u001b[0msympy\u001b[0m\u001b[0;34m.\u001b[0m\u001b[0mtensor\u001b[0m\u001b[0;34m.\u001b[0m\u001b[0marray\u001b[0m\u001b[0;34m.\u001b[0m\u001b[0marray_derivatives\u001b[0m \u001b[0;32mimport\u001b[0m \u001b[0mArrayDerivative\u001b[0m\u001b[0;34m\u001b[0m\u001b[0;34m\u001b[0m\u001b[0m\n\u001b[1;32m   1941\u001b[0m         \u001b[0;32mreturn\u001b[0m \u001b[0mArrayDerivative\u001b[0m\u001b[0;34m(\u001b[0m\u001b[0mexpr\u001b[0m\u001b[0;34m,\u001b[0m \u001b[0;34m*\u001b[0m\u001b[0mvariables\u001b[0m\u001b[0;34m,\u001b[0m \u001b[0;34m**\u001b[0m\u001b[0mkwargs\u001b[0m\u001b[0;34m)\u001b[0m\u001b[0;34m\u001b[0m\u001b[0;34m\u001b[0m\u001b[0m\n\u001b[0;32m-> 1942\u001b[0;31m     \u001b[0;32mreturn\u001b[0m \u001b[0mDerivative\u001b[0m\u001b[0;34m(\u001b[0m\u001b[0mexpr\u001b[0m\u001b[0;34m,\u001b[0m \u001b[0;34m*\u001b[0m\u001b[0mvariables\u001b[0m\u001b[0;34m,\u001b[0m \u001b[0;34m**\u001b[0m\u001b[0mkwargs\u001b[0m\u001b[0;34m)\u001b[0m\u001b[0;34m\u001b[0m\u001b[0;34m\u001b[0m\u001b[0m\n\u001b[0m\u001b[1;32m   1943\u001b[0m \u001b[0;34m\u001b[0m\u001b[0m\n\u001b[1;32m   1944\u001b[0m \u001b[0;34m\u001b[0m\u001b[0m\n",
            "\u001b[0;32m/usr/local/lib/python3.8/dist-packages/sympy/core/function.py\u001b[0m in \u001b[0;36m__new__\u001b[0;34m(cls, expr, *variables, **kwargs)\u001b[0m\n\u001b[1;32m   1366\u001b[0m             \u001b[0;32mif\u001b[0m \u001b[0;32mnot\u001b[0m \u001b[0mv\u001b[0m\u001b[0;34m.\u001b[0m\u001b[0m_diff_wrt\u001b[0m\u001b[0;34m:\u001b[0m\u001b[0;34m\u001b[0m\u001b[0;34m\u001b[0m\u001b[0m\n\u001b[1;32m   1367\u001b[0m                 \u001b[0m__\u001b[0m \u001b[0;34m=\u001b[0m \u001b[0;34m''\u001b[0m  \u001b[0;31m# filler to make error message neater\u001b[0m\u001b[0;34m\u001b[0m\u001b[0;34m\u001b[0m\u001b[0m\n\u001b[0;32m-> 1368\u001b[0;31m                 raise ValueError(filldedent('''\n\u001b[0m\u001b[1;32m   1369\u001b[0m                     Can't calculate derivative wrt %s.%s''' % (v,\n\u001b[1;32m   1370\u001b[0m                     __)))\n",
            "\u001b[0;31mValueError\u001b[0m: \nCan't calculate derivative wrt 0.631000000000000."
          ]
        }
      ]
    },
    {
      "cell_type": "code",
      "source": [],
      "metadata": {
        "id": "WP5T_mrHtzep"
      },
      "execution_count": null,
      "outputs": []
    },
    {
      "cell_type": "code",
      "source": [
        "#############################################################\n",
        "# ans['p4-1']에 함수값을 ans['p4-2']에 도함수값을 대입하시오.\n",
        "#############################################################\n",
        "\n",
        "ans['p4-1'] = None\n",
        "ans['p4-2'] = None"
      ],
      "metadata": {
        "id": "nB-EZyV2sn9P"
      },
      "execution_count": null,
      "outputs": []
    },
    {
      "cell_type": "markdown",
      "source": [
        "### 5. 제시된 `add()`와 `mul()` 그리고 문제 4에서 작성한 `pow()`를 사용하여 주어진 함수를 자동 미분하시오. 함수값과 미분 계수는 $x=1$에서 계산하시오."
      ],
      "metadata": {
        "id": "4ZmQklC1nklh"
      }
    },
    {
      "cell_type": "code",
      "source": [
        "def add(x, a):\n",
        "    return x+a, 1\n",
        "\n",
        "def mul(x, a):\n",
        "    return a*x, a"
      ],
      "metadata": {
        "id": "yj5WobCfn7U-"
      },
      "execution_count": null,
      "outputs": []
    },
    {
      "cell_type": "code",
      "source": [
        "x0 = 1\n",
        "\n",
        "# WRITE CODE HERE [+]\n"
      ],
      "metadata": {
        "id": "vdBjSQeHrEEx"
      },
      "execution_count": null,
      "outputs": []
    },
    {
      "cell_type": "code",
      "source": [
        "######################################################################\n",
        "# ans['p5-1']에 함수값을 대입하시오.\n",
        "######################################################################\n",
        "ans['p5-1'] = None\n",
        "\n",
        "######################################################################\n",
        "# ans['p5-2']에 미분계수를 대입하시오.\n",
        "######################################################################\n",
        "ans['p5-2'] = None"
      ],
      "metadata": {
        "id": "jTqgtsnrs17D"
      },
      "execution_count": null,
      "outputs": []
    },
    {
      "cell_type": "code",
      "source": [
        "# ans를 json으로 만들어서 서버에 post\n",
        "ans['p_set'] = '20230106_hkit'\n",
        "headers = {'Content-Type': 'application/json; chearset=utf-8'}\n",
        "response  = requests.post('https://metamath.pythonanywhere.com/solchk', \n",
        "                          data=json.dumps(ans, default=str), headers=headers)\n",
        "\n",
        "\n",
        "# 채점 결과가 들어있음\n",
        "res = json.loads(response.text)\n",
        "\n",
        "summary( res )"
      ],
      "metadata": {
        "colab": {
          "base_uri": "https://localhost:8080/"
        },
        "id": "tuJDMdu-uCxw",
        "outputId": "1f81d486-707d-450c-9fd3-eff049c4f8c5"
      },
      "execution_count": null,
      "outputs": [
        {
          "output_type": "stream",
          "name": "stdout",
          "text": [
            "p1: FAIL\n",
            "p2: FAIL\n",
            "p3: FAIL\n",
            "p4-1: FAIL\n",
            "p4-2: FAIL\n",
            "p5-1: FAIL\n",
            "p5-2: FAIL\n"
          ]
        }
      ]
    },
    {
      "cell_type": "code",
      "source": [],
      "metadata": {
        "id": "3WVR_SftwrKQ"
      },
      "execution_count": null,
      "outputs": []
    }
  ]
}